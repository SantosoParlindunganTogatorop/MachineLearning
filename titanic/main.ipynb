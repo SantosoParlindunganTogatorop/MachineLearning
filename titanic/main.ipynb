{
 "cells": [
  {
   "cell_type": "markdown",
   "id": "975d7882",
   "metadata": {},
   "source": [
    "### Import Library and extract Data "
   ]
  },
  {
   "cell_type": "code",
   "execution_count": 50,
   "id": "a0ae31e6",
   "metadata": {},
   "outputs": [],
   "source": [
    "import pandas as pd"
   ]
  },
  {
   "cell_type": "code",
   "execution_count": 80,
   "id": "3cd13183",
   "metadata": {},
   "outputs": [],
   "source": [
    "df_train = pd.read_csv('train.csv')\n",
    "df_test = pd.read_csv('test.csv')\n",
    "df_test['Survived'] = 0"
   ]
  },
  {
   "cell_type": "markdown",
   "id": "ad70dd07",
   "metadata": {},
   "source": [
    "### Data Preparation Function"
   ]
  },
  {
   "cell_type": "code",
   "execution_count": null,
   "id": "0548ef7f",
   "metadata": {},
   "outputs": [],
   "source": [
    "def Preprocess(df_train,df_test):\n",
    "\n",
    "    df = pd.concat([df_train,df_test], axis=0)\n",
    "    df = df.drop(columns=['PassengerId','Name','Ticket'], axis=1)\n",
    "\n",
    "# Imputing Missing Values\n",
    "\n",
    "    df['Age'] = df[\"Age\"].fillna(df['Age'].mean())\n",
    "    df['Fare'] = df['Fare'].fillna(df['Fare'].median())\n",
    "    df['Cabin'] = df['Cabin'].fillna('X000')\n",
    "    df['Embarked'] = df['Embarked'].fillna('X')\n",
    "\n",
    "# Extract Cabin columns and create 2 columns\n",
    "\n",
    "    df['cabin_letter'] = df['Cabin'].str.extract(r'([a-zA-z+])', expand=False)\n",
    "    df['cabin_number'] = df['Cabin'].str.extract(r'(\\d+)', expand=False)\n",
    "    df['cabin_number'] = df['cabin_number'].fillna(0)\n",
    "    df['cabin_number'] = pd.to_numeric(df['cabin_number'])\n",
    "    df.drop(columns=['Cabin'], axis=1, inplace=True)\n",
    "\n",
    "# One-hot encoding for Categorical columns\n",
    "\n",
    "    df = pd.get_dummies(df,columns=['Sex','Embarked','cabin_letter'])\n",
    "    df = df.drop(columns=['cabin_letter_X','Embarked_X'], axis=1)\n",
    "\n",
    "# Create The New Columns \n",
    "\n",
    "    df['Fare_bin_Pclass'] = df['Fare']//df['Pclass']\n",
    "    df['Pclass_bin_sex'] = df['Pclass'] - df['Sex_female']\n",
    "\n",
    "# Spliting Data into Training and testing sets\n",
    "\n",
    "    df_train,df_test = df[:len(df_train)],df[len(df_train):]\n",
    "    df_test.drop(columns=['Survived'], axis=1, inplace=True)\n",
    "\n",
    "    return df_train, df_test"
   ]
  },
  {
   "cell_type": "code",
   "execution_count": 106,
   "id": "de928d8e",
   "metadata": {},
   "outputs": [
    {
     "name": "stderr",
     "output_type": "stream",
     "text": [
      "C:\\Users\\SANTOSO TOGATOROP\\AppData\\Local\\Temp\\ipykernel_8136\\1683099417.py:24: SettingWithCopyWarning: \n",
      "A value is trying to be set on a copy of a slice from a DataFrame\n",
      "\n",
      "See the caveats in the documentation: https://pandas.pydata.org/pandas-docs/stable/user_guide/indexing.html#returning-a-view-versus-a-copy\n",
      "  df_test.drop(columns=['Survived'], axis=1, inplace=True)\n"
     ]
    },
    {
     "data": {
      "text/html": [
       "<div>\n",
       "<style scoped>\n",
       "    .dataframe tbody tr th:only-of-type {\n",
       "        vertical-align: middle;\n",
       "    }\n",
       "\n",
       "    .dataframe tbody tr th {\n",
       "        vertical-align: top;\n",
       "    }\n",
       "\n",
       "    .dataframe thead th {\n",
       "        text-align: right;\n",
       "    }\n",
       "</style>\n",
       "<table border=\"1\" class=\"dataframe\">\n",
       "  <thead>\n",
       "    <tr style=\"text-align: right;\">\n",
       "      <th></th>\n",
       "      <th>Survived</th>\n",
       "      <th>Pclass</th>\n",
       "      <th>Age</th>\n",
       "      <th>SibSp</th>\n",
       "      <th>Parch</th>\n",
       "      <th>Fare</th>\n",
       "      <th>cabin_number</th>\n",
       "      <th>Sex_female</th>\n",
       "      <th>Sex_male</th>\n",
       "      <th>Embarked_C</th>\n",
       "      <th>...</th>\n",
       "      <th>cabin_letter_A</th>\n",
       "      <th>cabin_letter_B</th>\n",
       "      <th>cabin_letter_C</th>\n",
       "      <th>cabin_letter_D</th>\n",
       "      <th>cabin_letter_E</th>\n",
       "      <th>cabin_letter_F</th>\n",
       "      <th>cabin_letter_G</th>\n",
       "      <th>cabin_letter_T</th>\n",
       "      <th>Fare_bin_Pclass</th>\n",
       "      <th>Pclass_bin_sex</th>\n",
       "    </tr>\n",
       "  </thead>\n",
       "  <tbody>\n",
       "    <tr>\n",
       "      <th>0</th>\n",
       "      <td>0</td>\n",
       "      <td>3</td>\n",
       "      <td>22.0</td>\n",
       "      <td>1</td>\n",
       "      <td>0</td>\n",
       "      <td>7.2500</td>\n",
       "      <td>0</td>\n",
       "      <td>False</td>\n",
       "      <td>True</td>\n",
       "      <td>False</td>\n",
       "      <td>...</td>\n",
       "      <td>False</td>\n",
       "      <td>False</td>\n",
       "      <td>False</td>\n",
       "      <td>False</td>\n",
       "      <td>False</td>\n",
       "      <td>False</td>\n",
       "      <td>False</td>\n",
       "      <td>False</td>\n",
       "      <td>2.0</td>\n",
       "      <td>3</td>\n",
       "    </tr>\n",
       "    <tr>\n",
       "      <th>1</th>\n",
       "      <td>1</td>\n",
       "      <td>1</td>\n",
       "      <td>38.0</td>\n",
       "      <td>1</td>\n",
       "      <td>0</td>\n",
       "      <td>71.2833</td>\n",
       "      <td>85</td>\n",
       "      <td>True</td>\n",
       "      <td>False</td>\n",
       "      <td>True</td>\n",
       "      <td>...</td>\n",
       "      <td>False</td>\n",
       "      <td>False</td>\n",
       "      <td>True</td>\n",
       "      <td>False</td>\n",
       "      <td>False</td>\n",
       "      <td>False</td>\n",
       "      <td>False</td>\n",
       "      <td>False</td>\n",
       "      <td>71.0</td>\n",
       "      <td>0</td>\n",
       "    </tr>\n",
       "    <tr>\n",
       "      <th>2</th>\n",
       "      <td>1</td>\n",
       "      <td>3</td>\n",
       "      <td>26.0</td>\n",
       "      <td>0</td>\n",
       "      <td>0</td>\n",
       "      <td>7.9250</td>\n",
       "      <td>0</td>\n",
       "      <td>True</td>\n",
       "      <td>False</td>\n",
       "      <td>False</td>\n",
       "      <td>...</td>\n",
       "      <td>False</td>\n",
       "      <td>False</td>\n",
       "      <td>False</td>\n",
       "      <td>False</td>\n",
       "      <td>False</td>\n",
       "      <td>False</td>\n",
       "      <td>False</td>\n",
       "      <td>False</td>\n",
       "      <td>2.0</td>\n",
       "      <td>2</td>\n",
       "    </tr>\n",
       "    <tr>\n",
       "      <th>3</th>\n",
       "      <td>1</td>\n",
       "      <td>1</td>\n",
       "      <td>35.0</td>\n",
       "      <td>1</td>\n",
       "      <td>0</td>\n",
       "      <td>53.1000</td>\n",
       "      <td>123</td>\n",
       "      <td>True</td>\n",
       "      <td>False</td>\n",
       "      <td>False</td>\n",
       "      <td>...</td>\n",
       "      <td>False</td>\n",
       "      <td>False</td>\n",
       "      <td>True</td>\n",
       "      <td>False</td>\n",
       "      <td>False</td>\n",
       "      <td>False</td>\n",
       "      <td>False</td>\n",
       "      <td>False</td>\n",
       "      <td>53.0</td>\n",
       "      <td>0</td>\n",
       "    </tr>\n",
       "    <tr>\n",
       "      <th>4</th>\n",
       "      <td>0</td>\n",
       "      <td>3</td>\n",
       "      <td>35.0</td>\n",
       "      <td>0</td>\n",
       "      <td>0</td>\n",
       "      <td>8.0500</td>\n",
       "      <td>0</td>\n",
       "      <td>False</td>\n",
       "      <td>True</td>\n",
       "      <td>False</td>\n",
       "      <td>...</td>\n",
       "      <td>False</td>\n",
       "      <td>False</td>\n",
       "      <td>False</td>\n",
       "      <td>False</td>\n",
       "      <td>False</td>\n",
       "      <td>False</td>\n",
       "      <td>False</td>\n",
       "      <td>False</td>\n",
       "      <td>2.0</td>\n",
       "      <td>3</td>\n",
       "    </tr>\n",
       "  </tbody>\n",
       "</table>\n",
       "<p>5 rows × 22 columns</p>\n",
       "</div>"
      ],
      "text/plain": [
       "   Survived  Pclass   Age  SibSp  Parch     Fare  cabin_number  Sex_female  \\\n",
       "0         0       3  22.0      1      0   7.2500             0       False   \n",
       "1         1       1  38.0      1      0  71.2833            85        True   \n",
       "2         1       3  26.0      0      0   7.9250             0        True   \n",
       "3         1       1  35.0      1      0  53.1000           123        True   \n",
       "4         0       3  35.0      0      0   8.0500             0       False   \n",
       "\n",
       "   Sex_male  Embarked_C  ...  cabin_letter_A  cabin_letter_B  cabin_letter_C  \\\n",
       "0      True       False  ...           False           False           False   \n",
       "1     False        True  ...           False           False            True   \n",
       "2     False       False  ...           False           False           False   \n",
       "3     False       False  ...           False           False            True   \n",
       "4      True       False  ...           False           False           False   \n",
       "\n",
       "   cabin_letter_D  cabin_letter_E  cabin_letter_F  cabin_letter_G  \\\n",
       "0           False           False           False           False   \n",
       "1           False           False           False           False   \n",
       "2           False           False           False           False   \n",
       "3           False           False           False           False   \n",
       "4           False           False           False           False   \n",
       "\n",
       "   cabin_letter_T  Fare_bin_Pclass  Pclass_bin_sex  \n",
       "0           False              2.0               3  \n",
       "1           False             71.0               0  \n",
       "2           False              2.0               2  \n",
       "3           False             53.0               0  \n",
       "4           False              2.0               3  \n",
       "\n",
       "[5 rows x 22 columns]"
      ]
     },
     "execution_count": 106,
     "metadata": {},
     "output_type": "execute_result"
    }
   ],
   "source": [
    "train, test = Preprocess(df_train, df_test)\n",
    "train.head()"
   ]
  },
  {
   "cell_type": "code",
   "execution_count": 100,
   "id": "cee20b24",
   "metadata": {},
   "outputs": [
    {
     "data": {
      "text/plain": [
       "Survived           1.000000\n",
       "Sex_female         0.543351\n",
       "Fare_bin_Pclass    0.267823\n",
       "Fare               0.257307\n",
       "cabin_number       0.229756\n",
       "cabin_letter_B     0.175095\n",
       "Embarked_C         0.168240\n",
       "cabin_letter_D     0.150716\n",
       "cabin_letter_E     0.145321\n",
       "cabin_letter_C     0.114652\n",
       "Parch              0.081629\n",
       "cabin_letter_F     0.057935\n",
       "cabin_letter_A     0.022287\n",
       "cabin_letter_G     0.016040\n",
       "Embarked_Q         0.003650\n",
       "cabin_letter_T    -0.026456\n",
       "SibSp             -0.035322\n",
       "Age               -0.070323\n",
       "Embarked_S        -0.155660\n",
       "Pclass            -0.338481\n",
       "Pclass_bin_sex    -0.533994\n",
       "Sex_male          -0.543351\n",
       "Name: Survived, dtype: float64"
      ]
     },
     "execution_count": 100,
     "metadata": {},
     "output_type": "execute_result"
    }
   ],
   "source": [
    "train.corr()['Survived'].sort_values(ascending=False)"
   ]
  },
  {
   "cell_type": "markdown",
   "id": "a2f4674d",
   "metadata": {},
   "source": [
    "### Model Training"
   ]
  },
  {
   "cell_type": "code",
   "execution_count": null,
   "id": "e6120f0a",
   "metadata": {},
   "outputs": [],
   "source": [
    "from sklearn.linear_model import LogisticRegression\n",
    "from sklearn.ensemble import RandomForestClassifier\n",
    "from xgboost import XGBClassifier\n",
    "from sklearn.model_selection import train_test_split\n",
    "from sklearn.metrics import accuracy_score"
   ]
  },
  {
   "cell_type": "code",
   "execution_count": 107,
   "id": "10b81cfa",
   "metadata": {},
   "outputs": [],
   "source": [
    "X = train.drop(columns='Survived')\n",
    "y = train['Survived']\n",
    "X_train,X_test, Y_train, Y_test = train_test_split(X, y, test_size=0.2)\n",
    "# Y_train = np.reshape(Y_train(-1,1))"
   ]
  },
  {
   "cell_type": "code",
   "execution_count": 108,
   "id": "a9afeeff",
   "metadata": {},
   "outputs": [
    {
     "name": "stderr",
     "output_type": "stream",
     "text": [
      "c:\\Users\\SANTOSO TOGATOROP\\AppData\\Local\\Programs\\Python\\Python312\\Lib\\site-packages\\sklearn\\linear_model\\_logistic.py:469: ConvergenceWarning: lbfgs failed to converge (status=1):\n",
      "STOP: TOTAL NO. of ITERATIONS REACHED LIMIT.\n",
      "\n",
      "Increase the number of iterations (max_iter) or scale the data as shown in:\n",
      "    https://scikit-learn.org/stable/modules/preprocessing.html\n",
      "Please also refer to the documentation for alternative solver options:\n",
      "    https://scikit-learn.org/stable/modules/linear_model.html#logistic-regression\n",
      "  n_iter_i = _check_optimize_result(\n"
     ]
    },
    {
     "data": {
      "text/plain": [
       "0.776536312849162"
      ]
     },
     "execution_count": 108,
     "metadata": {},
     "output_type": "execute_result"
    }
   ],
   "source": [
    "model_1 = LogisticRegression()\n",
    "model_1.fit(X_train, Y_train)\n",
    "pred = model_1.predict(X_test)\n",
    "accuracy_score(Y_test,pred)"
   ]
  },
  {
   "cell_type": "code",
   "execution_count": 109,
   "id": "eb41d729",
   "metadata": {},
   "outputs": [
    {
     "data": {
      "text/plain": [
       "0.8379888268156425"
      ]
     },
     "execution_count": 109,
     "metadata": {},
     "output_type": "execute_result"
    }
   ],
   "source": [
    "model_2 = RandomForestClassifier()\n",
    "model_2.fit(X_train,Y_train)\n",
    "pred = model_2.predict(X_test)\n",
    "accuracy_score(Y_test, pred)"
   ]
  },
  {
   "cell_type": "code",
   "execution_count": 110,
   "id": "29d1f05e",
   "metadata": {},
   "outputs": [
    {
     "data": {
      "text/plain": [
       "0.88268156424581"
      ]
     },
     "execution_count": 110,
     "metadata": {},
     "output_type": "execute_result"
    }
   ],
   "source": [
    "model_3 = XGBClassifier()\n",
    "model_3.fit(X_train,Y_train)\n",
    "pred = model_3.predict(X_test)\n",
    "accuracy_score(Y_test, pred)"
   ]
  },
  {
   "cell_type": "markdown",
   "id": "3a292a7d",
   "metadata": {},
   "source": [
    "### Implementing the Model_3 to Test data\n",
    "\n",
    "Using Model_3 Due to High Accuracy"
   ]
  },
  {
   "cell_type": "code",
   "execution_count": 112,
   "id": "6282f940",
   "metadata": {},
   "outputs": [],
   "source": [
    "df_test = pd.read_csv('test.csv')\n",
    "\n",
    "pred = model_3.predict(test)\n",
    "final = pd.DataFrame()\n",
    "final['PassengerId'] = df_test['PassengerId']\n",
    "final['Survived'] = pred"
   ]
  },
  {
   "cell_type": "code",
   "execution_count": 113,
   "id": "52d24568",
   "metadata": {},
   "outputs": [],
   "source": [
    "final.to_csv('Submission.csv', index=False)"
   ]
  }
 ],
 "metadata": {
  "kernelspec": {
   "display_name": "Python 3",
   "language": "python",
   "name": "python3"
  },
  "language_info": {
   "codemirror_mode": {
    "name": "ipython",
    "version": 3
   },
   "file_extension": ".py",
   "mimetype": "text/x-python",
   "name": "python",
   "nbconvert_exporter": "python",
   "pygments_lexer": "ipython3",
   "version": "3.12.6"
  }
 },
 "nbformat": 4,
 "nbformat_minor": 5
}
