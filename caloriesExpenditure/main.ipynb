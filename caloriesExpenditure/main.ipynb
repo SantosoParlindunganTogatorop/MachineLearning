{
 "cells": [
  {
   "cell_type": "markdown",
   "id": "41bd57ff",
   "metadata": {},
   "source": [
    "### Import Library and Data"
   ]
  },
  {
   "cell_type": "code",
   "execution_count": 1,
   "id": "699d7507",
   "metadata": {},
   "outputs": [],
   "source": [
    "import pandas as pd"
   ]
  },
  {
   "cell_type": "code",
   "execution_count": 2,
   "id": "2c69f808",
   "metadata": {},
   "outputs": [],
   "source": [
    "df_train = pd.read_csv('train.csv')\n",
    "df_test = pd.read_csv('test.csv')\n",
    "df_test['Calories'] = 0"
   ]
  },
  {
   "cell_type": "markdown",
   "id": "dcf2f065",
   "metadata": {},
   "source": [
    "### Data Preparation Function"
   ]
  },
  {
   "cell_type": "code",
   "execution_count": null,
   "id": "5853707f",
   "metadata": {},
   "outputs": [],
   "source": [
    "def Preprocess(df_train, df_test):\n",
    "\n",
    "    df = pd.concat([df_train,df_test])\n",
    "    df.drop(columns='id', axis=1, inplace=True)\n",
    "\n",
    "# Create Feature Columns (BMI)\n",
    "\n",
    "    df['height'] = df['Height']/100\n",
    "    df['BMI'] = df['Weight']/(df['height']**2)\n",
    "    df = pd.get_dummies(df,columns=['Sex'])\n",
    "\n",
    "# Create Bins columns to split Data\n",
    "\n",
    "    df['Age'] = pd.cut(df['Age'], bins=4, labels=[1,2,3,4])\n",
    "    df['Age'] = pd.to_numeric(df['Age'])\n",
    "    bin = [0,18.5,24.9,29.9, float('inf')]\n",
    "    df['BMI'] = pd.cut(df['BMI'], bins=bin, labels=[1,2,3,4])\n",
    "    df['BMI'] = pd.to_numeric(df['BMI'])\n",
    "\n",
    "    df_train, df_test = df[:len(df_train)], df[len(df_train):]\n",
    "     \n",
    "    return df_train, df_test"
   ]
  },
  {
   "cell_type": "code",
   "execution_count": 16,
   "id": "d4334981",
   "metadata": {},
   "outputs": [
    {
     "data": {
      "text/html": [
       "<div>\n",
       "<style scoped>\n",
       "    .dataframe tbody tr th:only-of-type {\n",
       "        vertical-align: middle;\n",
       "    }\n",
       "\n",
       "    .dataframe tbody tr th {\n",
       "        vertical-align: top;\n",
       "    }\n",
       "\n",
       "    .dataframe thead th {\n",
       "        text-align: right;\n",
       "    }\n",
       "</style>\n",
       "<table border=\"1\" class=\"dataframe\">\n",
       "  <thead>\n",
       "    <tr style=\"text-align: right;\">\n",
       "      <th></th>\n",
       "      <th>Age</th>\n",
       "      <th>Height</th>\n",
       "      <th>Weight</th>\n",
       "      <th>Duration</th>\n",
       "      <th>Heart_Rate</th>\n",
       "      <th>Body_Temp</th>\n",
       "      <th>Calories</th>\n",
       "      <th>height</th>\n",
       "      <th>BMI</th>\n",
       "      <th>Sex_female</th>\n",
       "      <th>Sex_male</th>\n",
       "    </tr>\n",
       "  </thead>\n",
       "  <tbody>\n",
       "    <tr>\n",
       "      <th>0</th>\n",
       "      <td>2</td>\n",
       "      <td>189.0</td>\n",
       "      <td>82.0</td>\n",
       "      <td>26.0</td>\n",
       "      <td>101.0</td>\n",
       "      <td>41.0</td>\n",
       "      <td>150.0</td>\n",
       "      <td>1.89</td>\n",
       "      <td>2</td>\n",
       "      <td>False</td>\n",
       "      <td>True</td>\n",
       "    </tr>\n",
       "    <tr>\n",
       "      <th>1</th>\n",
       "      <td>3</td>\n",
       "      <td>163.0</td>\n",
       "      <td>60.0</td>\n",
       "      <td>8.0</td>\n",
       "      <td>85.0</td>\n",
       "      <td>39.7</td>\n",
       "      <td>34.0</td>\n",
       "      <td>1.63</td>\n",
       "      <td>2</td>\n",
       "      <td>True</td>\n",
       "      <td>False</td>\n",
       "    </tr>\n",
       "    <tr>\n",
       "      <th>2</th>\n",
       "      <td>3</td>\n",
       "      <td>161.0</td>\n",
       "      <td>64.0</td>\n",
       "      <td>7.0</td>\n",
       "      <td>84.0</td>\n",
       "      <td>39.8</td>\n",
       "      <td>29.0</td>\n",
       "      <td>1.61</td>\n",
       "      <td>2</td>\n",
       "      <td>True</td>\n",
       "      <td>False</td>\n",
       "    </tr>\n",
       "    <tr>\n",
       "      <th>3</th>\n",
       "      <td>1</td>\n",
       "      <td>192.0</td>\n",
       "      <td>90.0</td>\n",
       "      <td>25.0</td>\n",
       "      <td>105.0</td>\n",
       "      <td>40.7</td>\n",
       "      <td>140.0</td>\n",
       "      <td>1.92</td>\n",
       "      <td>2</td>\n",
       "      <td>False</td>\n",
       "      <td>True</td>\n",
       "    </tr>\n",
       "    <tr>\n",
       "      <th>4</th>\n",
       "      <td>2</td>\n",
       "      <td>166.0</td>\n",
       "      <td>61.0</td>\n",
       "      <td>25.0</td>\n",
       "      <td>102.0</td>\n",
       "      <td>40.6</td>\n",
       "      <td>146.0</td>\n",
       "      <td>1.66</td>\n",
       "      <td>2</td>\n",
       "      <td>True</td>\n",
       "      <td>False</td>\n",
       "    </tr>\n",
       "  </tbody>\n",
       "</table>\n",
       "</div>"
      ],
      "text/plain": [
       "   Age  Height  Weight  Duration  Heart_Rate  Body_Temp  Calories  height  \\\n",
       "0    2   189.0    82.0      26.0       101.0       41.0     150.0    1.89   \n",
       "1    3   163.0    60.0       8.0        85.0       39.7      34.0    1.63   \n",
       "2    3   161.0    64.0       7.0        84.0       39.8      29.0    1.61   \n",
       "3    1   192.0    90.0      25.0       105.0       40.7     140.0    1.92   \n",
       "4    2   166.0    61.0      25.0       102.0       40.6     146.0    1.66   \n",
       "\n",
       "   BMI  Sex_female  Sex_male  \n",
       "0    2       False      True  \n",
       "1    2        True     False  \n",
       "2    2        True     False  \n",
       "3    2       False      True  \n",
       "4    2        True     False  "
      ]
     },
     "execution_count": 16,
     "metadata": {},
     "output_type": "execute_result"
    }
   ],
   "source": [
    "train, test = Preprocess(df_train, df_test)\n",
    "train.head()"
   ]
  },
  {
   "cell_type": "markdown",
   "id": "e1346c7a",
   "metadata": {},
   "source": [
    "### Model Training"
   ]
  },
  {
   "cell_type": "code",
   "execution_count": 5,
   "id": "dfb8f846",
   "metadata": {},
   "outputs": [],
   "source": [
    "from sklearn.linear_model import LinearRegression\n",
    "from sklearn.tree import DecisionTreeRegressor\n",
    "from xgboost import XGBRegressor\n",
    "from sklearn.model_selection import train_test_split, cross_val_score\n",
    "from sklearn.preprocessing import StandardScaler\n",
    "from sklearn.metrics import mean_squared_log_error"
   ]
  },
  {
   "cell_type": "code",
   "execution_count": 17,
   "id": "4beb56bb",
   "metadata": {},
   "outputs": [],
   "source": [
    "X = train.drop(columns=['Calories'])\n",
    "y = train['Calories']\n",
    "X_train, X_test, Y_train, Y_test = train_test_split(X, y, test_size=0.2)"
   ]
  },
  {
   "cell_type": "code",
   "execution_count": null,
   "id": "b89cd1ba",
   "metadata": {},
   "outputs": [],
   "source": [
    "# Implementing feature Standardization\n",
    "\n",
    "scaled = StandardScaler()\n",
    "X_train_scaled = scaled.fit_transform(X_train)\n",
    "X_test_scaled = scaled.transform(X_test)"
   ]
  },
  {
   "cell_type": "code",
   "execution_count": 8,
   "id": "2b04d6ff",
   "metadata": {},
   "outputs": [
    {
     "data": {
      "text/plain": [
       "0.9672362959074906"
      ]
     },
     "execution_count": 8,
     "metadata": {},
     "output_type": "execute_result"
    }
   ],
   "source": [
    "model_1 = LinearRegression()\n",
    "model_1.fit(X_train_scaled, Y_train)\n",
    "accuracy = model_1.score(X_test_scaled, Y_test)\n",
    "accuracy"
   ]
  },
  {
   "cell_type": "code",
   "execution_count": 28,
   "id": "29c66e68",
   "metadata": {},
   "outputs": [
    {
     "data": {
      "text/plain": [
       "np.float64(0.009445910599175112)"
      ]
     },
     "execution_count": 28,
     "metadata": {},
     "output_type": "execute_result"
    }
   ],
   "source": [
    "model_2 = DecisionTreeRegressor()\n",
    "model_2.fit(X_train_scaled, Y_train)\n",
    "accuracy = model_2.predict(X_test_scaled)\n",
    "mean_squared_log_error(Y_test,accuracy)"
   ]
  },
  {
   "cell_type": "code",
   "execution_count": 19,
   "id": "d524e5e0",
   "metadata": {},
   "outputs": [
    {
     "data": {
      "text/plain": [
       "np.float64(0.005239071678137012)"
      ]
     },
     "execution_count": 19,
     "metadata": {},
     "output_type": "execute_result"
    }
   ],
   "source": [
    "model_3 = XGBRegressor()\n",
    "model_3.fit(X_train_scaled, Y_train)\n",
    "accuracy = model_3.predict(X_test_scaled)\n",
    "mean_squared_log_error(Y_test, accuracy)"
   ]
  },
  {
   "cell_type": "markdown",
   "id": "885df13e",
   "metadata": {},
   "source": [
    "### Overfitting Detection"
   ]
  },
  {
   "cell_type": "code",
   "execution_count": 23,
   "id": "6ab44e28",
   "metadata": {},
   "outputs": [
    {
     "data": {
      "text/plain": [
       "(array([0.96730887, 0.96705561, 0.96697812, 0.96714344, 0.96689002]),\n",
       " np.float64(0.9670752117007883))"
      ]
     },
     "execution_count": 23,
     "metadata": {},
     "output_type": "execute_result"
    }
   ],
   "source": [
    "score = cross_val_score(model_1, X, y, cv=5)\n",
    "score, score.mean()"
   ]
  },
  {
   "cell_type": "code",
   "execution_count": 26,
   "id": "cbb188bc",
   "metadata": {},
   "outputs": [
    {
     "data": {
      "text/plain": [
       "(array([0.98938592, 0.98941202, 0.98926157, 0.98938554, 0.98931222]),\n",
       " np.float64(0.9893514537751866))"
      ]
     },
     "execution_count": 26,
     "metadata": {},
     "output_type": "execute_result"
    }
   ],
   "source": [
    "score = cross_val_score(model_2, X, y, cv=5)\n",
    "score, score.mean()"
   ]
  },
  {
   "cell_type": "code",
   "execution_count": null,
   "id": "9948f3ec",
   "metadata": {},
   "outputs": [
    {
     "data": {
      "text/plain": [
       "np.float64(0.9943922232646505)"
      ]
     },
     "execution_count": 25,
     "metadata": {},
     "output_type": "execute_result"
    }
   ],
   "source": [
    "score = cross_val_score(model_3, X, y, cv=5)\n",
    "score, score.mean()"
   ]
  },
  {
   "cell_type": "markdown",
   "id": "c96fd8c4",
   "metadata": {},
   "source": [
    "### Create Final Data (Submission)"
   ]
  },
  {
   "cell_type": "code",
   "execution_count": 30,
   "id": "711ab58d",
   "metadata": {},
   "outputs": [
    {
     "name": "stderr",
     "output_type": "stream",
     "text": [
      "c:\\Users\\SANTOSO TOGATOROP\\AppData\\Local\\Programs\\Python\\Python312\\Lib\\site-packages\\sklearn\\base.py:486: UserWarning: X has feature names, but DecisionTreeRegressor was fitted without feature names\n",
      "  warnings.warn(\n"
     ]
    }
   ],
   "source": [
    "test.drop(columns=['Calories'], axis=1, inplace=True)\n",
    "accuracy = model_2.predict(test)\n",
    "final = pd.DataFrame()\n",
    "final['id'] = df_test['id']\n",
    "final['Calories'] = accuracy\n",
    "final.to_csv('Submission.csv', index=False)"
   ]
  }
 ],
 "metadata": {
  "kernelspec": {
   "display_name": "Python 3",
   "language": "python",
   "name": "python3"
  },
  "language_info": {
   "codemirror_mode": {
    "name": "ipython",
    "version": 3
   },
   "file_extension": ".py",
   "mimetype": "text/x-python",
   "name": "python",
   "nbconvert_exporter": "python",
   "pygments_lexer": "ipython3",
   "version": "3.12.6"
  }
 },
 "nbformat": 4,
 "nbformat_minor": 5
}
